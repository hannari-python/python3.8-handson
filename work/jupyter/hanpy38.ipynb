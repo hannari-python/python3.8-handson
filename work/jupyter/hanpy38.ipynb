{
 "cells": [
  {
   "cell_type": "markdown",
   "metadata": {},
   "source": [
    "# はんなりPython Python3.8 hands on\n",
    "- Python3.8がリリースされました\n",
    "- https://blog.python.org/\n",
    "![title](python38.png)\n",
    "- 3.8 What's New? ドキュメント　https://docs.python.org/3/whatsnew/3.8.html\n",
    "- [これまでのバージョンアップでの主要な変更点](https://gitpitch.com/pyconjp/slides/master?p=osc2019fukuoka#/7) ([@terapon](https://twitter.com/terapyon))\n",
    "### というわけで、基礎的な部分を触りながら新機能にも触れよう！というのが今回のハンズオンです。"
   ]
  },
  {
   "cell_type": "code",
   "execution_count": 1,
   "metadata": {},
   "outputs": [
    {
     "name": "stdout",
     "output_type": "stream",
     "text": [
      "Python 3.8.0\n",
      "sys.version_info(major=3, minor=8, micro=0, releaselevel='final', serial=0)\n"
     ]
    }
   ],
   "source": [
    "# バージョン確認\n",
    "!python3 -V\n",
    "\n",
    "# or\n",
    "import sys\n",
    "print(sys.version_info)"
   ]
  },
  {
   "cell_type": "markdown",
   "metadata": {},
   "source": [
    "## 3.8じゃない人はインストールしましょう\n",
    "- 環境構築はpython.jpが参考になります\n",
    "    - https://www.python.jp/install/install.html\n",
    "- そのほか、Pythonでの開発を効率的に進めるためのツール\n",
    "    - pyconjp2019 ビギナーセッション おだぎりあつしさん（[@aodag](https://twitter.com/aodag)）\n",
    "    - https://www.slideshare.net/aodag/python-172432039?ref=https://pyconjp.connpass.com/event/135734/presentation/\n",
    "    ## ツールたち\n",
    "        - venv推奨\n",
    "        - flake8\n",
    "            - 静的チェックツール　\n",
    "            - \\$pip install flake8     \n",
    "        - black \n",
    "            - コードフォーマッター\n",
    "            - \\$ pip install black     \n",
    "        - mypy\n",
    "            - type hint チェック \n",
    "            - \\$ pip install mypy\n",
    "            - アッキーさんLT資料　https://www.slideshare.net/hiroyaakita/python-174152843\n",
    "        - pytest\n",
    "            - ユニットテストフレームワーク \n",
    "            - \\$ pip install pytest\n",
    "        - tox\n",
    "            - テスト用のvirtualenvの管理 \n",
    "            - \\$ pip install tox\n",
    "    ## そのほか利用するもの\n",
    "        - jupyter notebook | lab\n",
    "        - pandas \n",
    "        - flask\n",
    "        - django\n",
    "      \n",
    "    ## エディタ\n",
    "        - いろいろあるので好きなので良いです。上のツールと連携できます。\n",
    "            - VSCODE\n",
    "            - emacs\n",
    "            - vim\n",
    "            - pycharm"
   ]
  },
  {
   "cell_type": "code",
   "execution_count": 2,
   "metadata": {},
   "outputs": [
    {
     "name": "stdout",
     "output_type": "stream",
     "text": [
      "Python 3.8.0\n"
     ]
    }
   ],
   "source": [
    "!python3 -V"
   ]
  },
  {
   "cell_type": "markdown",
   "metadata": {},
   "source": [
    "## 本日のメニュー\n",
    "- pythonインタプリンタを触る\n",
    "- 様々なデータ型を触る\n",
    "- データを制御する\n",
    "- モジュールを使う\n",
    "- 関数を作る\n",
    "- クラスを作る\n",
    "- エラーと例外"
   ]
  },
  {
   "cell_type": "markdown",
   "metadata": {},
   "source": [
    "## まずは基本的なPythonの使い方から\n",
    "参考: python tutorial https://docs.python.org/3/tutorial/interpreter.html     \n",
    "日本語 https://docs.python.org/ja/3.7/tutorial/interpreter.html\n",
    "\n",
    "### インタプリタ\n",
    "- Pythonはインタプリタ型言語（コンパイラ型言語）\n",
    "- Pythonで書いたコードをコンピュータが分かる言葉にしてくれる\n",
    "- python（Mac）、py（Windows）でインタプリタを実行できる\n",
    "- exit()で終了"
   ]
  },
  {
   "cell_type": "code",
   "execution_count": 3,
   "metadata": {},
   "outputs": [
    {
     "data": {
      "text/plain": [
       "6"
      ]
     },
     "execution_count": 3,
     "metadata": {},
     "output_type": "execute_result"
    }
   ],
   "source": [
    "3 + 3"
   ]
  },
  {
   "cell_type": "code",
   "execution_count": 4,
   "metadata": {},
   "outputs": [
    {
     "data": {
      "text/plain": [
       "[0, 1, 2, 3, 4, 5, 6, 7, 8, 9]"
      ]
     },
     "execution_count": 4,
     "metadata": {},
     "output_type": "execute_result"
    }
   ],
   "source": [
    "[i for i in range(10)]"
   ]
  },
  {
   "cell_type": "markdown",
   "metadata": {},
   "source": [
    "## 入力の種類\n",
    "- すうじ\n",
    "- もじ\n",
    "- Bool"
   ]
  },
  {
   "cell_type": "code",
   "execution_count": 5,
   "metadata": {},
   "outputs": [
    {
     "name": "stdout",
     "output_type": "stream",
     "text": [
      "2は <class 'int'>\n",
      "\"2\"は <class 'str'>\n",
      "2.1は <class 'float'>\n"
     ]
    }
   ],
   "source": [
    "## 数字\n",
    "print(\"2は\", type(2))\n",
    "print(\"\\\"2\\\"は\", type(\"2\"))\n",
    "print(\"2.1は\", type(2.1))"
   ]
  },
  {
   "cell_type": "code",
   "execution_count": 6,
   "metadata": {},
   "outputs": [
    {
     "data": {
      "text/plain": [
       "4"
      ]
     },
     "execution_count": 6,
     "metadata": {},
     "output_type": "execute_result"
    }
   ],
   "source": [
    "2 + 2"
   ]
  },
  {
   "cell_type": "code",
   "execution_count": 7,
   "metadata": {},
   "outputs": [
    {
     "ename": "TypeError",
     "evalue": "unsupported operand type(s) for +: 'int' and 'str'",
     "output_type": "error",
     "traceback": [
      "\u001b[0;31m---------------------------------------------------------------------------\u001b[0m",
      "\u001b[0;31mTypeError\u001b[0m                                 Traceback (most recent call last)",
      "\u001b[0;32m<ipython-input-7-80052203e394>\u001b[0m in \u001b[0;36m<module>\u001b[0;34m\u001b[0m\n\u001b[0;32m----> 1\u001b[0;31m \u001b[0;36m2\u001b[0m \u001b[0;34m+\u001b[0m \u001b[0;34m\"2\"\u001b[0m\u001b[0;34m\u001b[0m\u001b[0;34m\u001b[0m\u001b[0m\n\u001b[0m",
      "\u001b[0;31mTypeError\u001b[0m: unsupported operand type(s) for +: 'int' and 'str'"
     ]
    }
   ],
   "source": [
    "2 + \"2\""
   ]
  },
  {
   "cell_type": "code",
   "execution_count": 8,
   "metadata": {},
   "outputs": [
    {
     "name": "stdout",
     "output_type": "stream",
     "text": [
      "はんなりPython\n",
      "はんなりPython\n"
     ]
    }
   ],
   "source": [
    "print(\"はんなり\" + \"Python\")\n",
    "print(\"はんなり\" \"Python\")"
   ]
  },
  {
   "cell_type": "code",
   "execution_count": 9,
   "metadata": {},
   "outputs": [
    {
     "data": {
      "text/plain": [
       "'22'"
      ]
     },
     "execution_count": 9,
     "metadata": {},
     "output_type": "execute_result"
    }
   ],
   "source": [
    "2 * \"2\""
   ]
  },
  {
   "cell_type": "code",
   "execution_count": 10,
   "metadata": {},
   "outputs": [
    {
     "data": {
      "text/plain": [
       "'2222'"
      ]
     },
     "execution_count": 10,
     "metadata": {},
     "output_type": "execute_result"
    }
   ],
   "source": [
    "_ * 2"
   ]
  },
  {
   "cell_type": "code",
   "execution_count": 11,
   "metadata": {},
   "outputs": [
    {
     "data": {
      "text/plain": [
       "bool"
      ]
     },
     "execution_count": 11,
     "metadata": {},
     "output_type": "execute_result"
    }
   ],
   "source": [
    "type(True)"
   ]
  },
  {
   "cell_type": "markdown",
   "metadata": {},
   "source": [
    "### 変数への代入\n",
    "- 値を代入することができる\n",
    "- マルチバイトな文字列も変数として扱える\n",
    "- 関数も渡せる\n",
    "- classも渡せる\n",
    "- New! 式も渡せる(セイウチ演算子)"
   ]
  },
  {
   "cell_type": "code",
   "execution_count": 12,
   "metadata": {},
   "outputs": [
    {
     "name": "stdout",
     "output_type": "stream",
     "text": [
      "10\n"
     ]
    }
   ],
   "source": [
    "a = 10\n",
    "print(a)"
   ]
  },
  {
   "cell_type": "code",
   "execution_count": 13,
   "metadata": {},
   "outputs": [
    {
     "name": "stdout",
     "output_type": "stream",
     "text": [
      "10 20 30 40 50\n"
     ]
    }
   ],
   "source": [
    "a, b, c, d, e = 10, 20, 30, 40, 50\n",
    "print(a,b,c,d,e)"
   ]
  },
  {
   "cell_type": "code",
   "execution_count": 14,
   "metadata": {},
   "outputs": [
    {
     "name": "stdout",
     "output_type": "stream",
     "text": [
      "はんなりpython はんなりpython\n"
     ]
    }
   ],
   "source": [
    "はんなり = \"はんなりpython\"\n",
    "京都 = \"はんなりpython\"\n",
    "print(はんなり, 京都)"
   ]
  },
  {
   "cell_type": "code",
   "execution_count": 15,
   "metadata": {},
   "outputs": [
    {
     "data": {
      "text/plain": [
       "[1, 2, 3, 4, 5, 6, 7, 8, 9]"
      ]
     },
     "execution_count": 15,
     "metadata": {},
     "output_type": "execute_result"
    }
   ],
   "source": [
    "r = range\n",
    "list(r(1,10))"
   ]
  },
  {
   "cell_type": "code",
   "execution_count": 16,
   "metadata": {},
   "outputs": [],
   "source": [
    "class human:\n",
    "    def __init__(self, name, tall):\n",
    "        self.name = name\n",
    "        self.tall = tall\n",
    "    \n",
    "    def greet(self, words=\"はじめまして\"):\n",
    "        return (\"こんにちは、{}\".format(words))\n",
    "    \n",
    "h = human(\"hide\", 180)\n",
    "# クラスが渡された変数をインスタンス変数と呼ぶ"
   ]
  },
  {
   "cell_type": "code",
   "execution_count": 17,
   "metadata": {},
   "outputs": [
    {
     "data": {
      "text/plain": [
       "'hide'"
      ]
     },
     "execution_count": 17,
     "metadata": {},
     "output_type": "execute_result"
    }
   ],
   "source": [
    "h.name"
   ]
  },
  {
   "cell_type": "code",
   "execution_count": 18,
   "metadata": {},
   "outputs": [
    {
     "data": {
      "text/plain": [
       "180"
      ]
     },
     "execution_count": 18,
     "metadata": {},
     "output_type": "execute_result"
    }
   ],
   "source": [
    "h.tall"
   ]
  },
  {
   "cell_type": "code",
   "execution_count": 19,
   "metadata": {},
   "outputs": [
    {
     "data": {
      "text/plain": [
       "'こんにちは、はじめまして'"
      ]
     },
     "execution_count": 19,
     "metadata": {},
     "output_type": "execute_result"
    }
   ],
   "source": [
    "h.greet()"
   ]
  },
  {
   "cell_type": "markdown",
   "metadata": {},
   "source": [
    "### 3.8の新機能セイウチ演算子 \n",
    "- [リンク](https://docs.python.org/ja/3.8/whatsnew/3.8.html#assignment-expressions)\n",
    "- 変数に式を代入できる\n",
    "- セイウチ演算子の使用は、複雑さを減らしたり可読性を向上させる綺麗なケースに限るよう努めてください"
   ]
  },
  {
   "cell_type": "code",
   "execution_count": 20,
   "metadata": {},
   "outputs": [
    {
     "name": "stdout",
     "output_type": "stream",
     "text": [
      "10\n",
      "10\n"
     ]
    }
   ],
   "source": [
    "seiuchi = (ab := 10)\n",
    "print(seiuchi)\n",
    "print(ab)"
   ]
  },
  {
   "cell_type": "code",
   "execution_count": 21,
   "metadata": {},
   "outputs": [
    {
     "name": "stdout",
     "output_type": "stream",
     "text": [
      "Hello, 14\n"
     ]
    }
   ],
   "source": [
    "a = \"abdcegfhjikdil\"\n",
    "if (n := len(a)) > 10:\n",
    "    print(\"Hello, {}\".format(n))"
   ]
  },
  {
   "cell_type": "markdown",
   "metadata": {},
   "source": [
    "## スライス"
   ]
  },
  {
   "cell_type": "code",
   "execution_count": 22,
   "metadata": {},
   "outputs": [
    {
     "name": "stdout",
     "output_type": "stream",
     "text": [
      "は\n",
      "はんなり\n",
      "Pyt\n",
      "Python\n"
     ]
    }
   ],
   "source": [
    "hanpy = \"はんなりPython\"\n",
    "print(hanpy[0])\n",
    "print(hanpy[:4])\n",
    "print(hanpy[4:7])\n",
    "print(hanpy[-6:])"
   ]
  },
  {
   "cell_type": "code",
   "execution_count": 23,
   "metadata": {},
   "outputs": [
    {
     "name": "stdout",
     "output_type": "stream",
     "text": [
      "<class 'list'> <class 'list'>\n",
      "7を入れたリスト [1, 2, 3, 4, 5, 6, 7]\n",
      "popをしたリスト [1, 2, 3, 4, 5, 6]\n",
      "pop [2, 3, 4, 5, 6]\n"
     ]
    }
   ],
   "source": [
    "## リスト\n",
    "L = list()\n",
    "L0 = []\n",
    "print(type(L), type(L0))\n",
    "\n",
    "# リスト\n",
    "# 後入先出は簡単\n",
    "\n",
    "L0 = [1,2,3,4,5,6]\n",
    "\n",
    "L0.append(7)\n",
    "\n",
    "print(\"7を入れたリスト\", L0)\n",
    "\n",
    "L0.pop()\n",
    "\n",
    "print(\"popをしたリスト\", L0)\n",
    "# 最後が取り除かれる\n",
    "\n",
    "L0.pop(0)\n",
    "# popで番号指定で、先頭を取り除くことの可能。でも遅いらしい\n",
    "\n",
    "print(\"pop\", L0)"
   ]
  },
  {
   "cell_type": "code",
   "execution_count": 24,
   "metadata": {},
   "outputs": [
    {
     "name": "stdout",
     "output_type": "stream",
     "text": [
      "deque([1, 2, 3, 4, 5, 6, 7])\n",
      "deque([2, 3, 4, 5, 6, 7])\n"
     ]
    }
   ],
   "source": [
    "# 先入れ先出しは上の方法では遅い\n",
    "# collections.dequeを使おうとのこと\n",
    "\n",
    "from collections import deque\n",
    "\n",
    "t = deque([1,2,3,4,5,6])\n",
    "\n",
    "t.append(7)\n",
    "\n",
    "print(t)\n",
    "\n",
    "t.popleft()\n",
    "\n",
    "print(t)"
   ]
  },
  {
   "cell_type": "code",
   "execution_count": 25,
   "metadata": {},
   "outputs": [
    {
     "data": {
      "text/plain": [
       "[0, 1, 2, 3, 4, 5, 6, 7, 8, 9]"
      ]
     },
     "execution_count": 25,
     "metadata": {},
     "output_type": "execute_result"
    }
   ],
   "source": [
    "# リスト内法表記\n",
    "[i for i in range(10)]"
   ]
  },
  {
   "cell_type": "code",
   "execution_count": 26,
   "metadata": {},
   "outputs": [
    {
     "data": {
      "text/plain": [
       "[0, 1, 2, 3, 4, 5, 6, 7, 8, 9]"
      ]
     },
     "execution_count": 26,
     "metadata": {},
     "output_type": "execute_result"
    }
   ],
   "source": [
    "list(range(10))"
   ]
  },
  {
   "cell_type": "code",
   "execution_count": 27,
   "metadata": {},
   "outputs": [
    {
     "name": "stdout",
     "output_type": "stream",
     "text": [
      "<class 'dict'> <class 'dict'>\n",
      "<class 'tuple'>\n",
      "<class 'set'> <class 'set'>\n"
     ]
    }
   ],
   "source": [
    "## 辞書型\n",
    "d = dict()\n",
    "d1 = {}\n",
    "print(type(d), type(d1))\n",
    "\n",
    "# タプル\n",
    "t = ()\n",
    "\n",
    "print(type(t))\n",
    "\n",
    "# 集合型\n",
    "s = set()\n",
    "s1 = {1,2,3}\n",
    "\n",
    "print(type(s), type(s1))"
   ]
  },
  {
   "cell_type": "code",
   "execution_count": 28,
   "metadata": {},
   "outputs": [
    {
     "name": "stdout",
     "output_type": "stream",
     "text": [
      "{0: 2, 1: 3, 2: 4, 3: 5, 4: 6, 5: 7, 6: 8, 7: 9, 8: 10, 9: 11}\n"
     ]
    }
   ],
   "source": [
    "# 辞書内法表記\n",
    "a_dic = {i: i+2 for i in range(10)}\n",
    "print(a_dic)"
   ]
  },
  {
   "cell_type": "code",
   "execution_count": 29,
   "metadata": {},
   "outputs": [
    {
     "name": "stdout",
     "output_type": "stream",
     "text": [
      "{3}\n"
     ]
    }
   ],
   "source": [
    "s = {1,2,3}\n",
    "s1 = {3,4,5}\n",
    "s2 = {1,1,2,2,3,3,3,4,4,4}\n",
    "print(s & s1)"
   ]
  },
  {
   "cell_type": "code",
   "execution_count": 30,
   "metadata": {},
   "outputs": [
    {
     "data": {
      "text/plain": [
       "{1, 2, 3, 4}"
      ]
     },
     "execution_count": 30,
     "metadata": {},
     "output_type": "execute_result"
    }
   ],
   "source": [
    "s2"
   ]
  },
  {
   "cell_type": "code",
   "execution_count": 31,
   "metadata": {},
   "outputs": [],
   "source": [
    "hannari = [\"a\", \"b\", \"c\", \"d\", \"e\",]"
   ]
  },
  {
   "cell_type": "code",
   "execution_count": 32,
   "metadata": {},
   "outputs": [
    {
     "data": {
      "text/plain": [
       "['b', 'c']"
      ]
     },
     "execution_count": 32,
     "metadata": {},
     "output_type": "execute_result"
    }
   ],
   "source": [
    "hannari[1:3]"
   ]
  },
  {
   "cell_type": "code",
   "execution_count": 33,
   "metadata": {},
   "outputs": [],
   "source": [
    "hannari_dict = {\"a\": 1, \"b\": 2, \"c\": 3, \"d\": 4, \"e\": 5}"
   ]
  },
  {
   "cell_type": "code",
   "execution_count": 34,
   "metadata": {},
   "outputs": [
    {
     "ename": "KeyError",
     "evalue": "2",
     "output_type": "error",
     "traceback": [
      "\u001b[0;31m---------------------------------------------------------------------------\u001b[0m",
      "\u001b[0;31mKeyError\u001b[0m                                  Traceback (most recent call last)",
      "\u001b[0;32m<ipython-input-34-6d9c649e214f>\u001b[0m in \u001b[0;36m<module>\u001b[0;34m\u001b[0m\n\u001b[0;32m----> 1\u001b[0;31m \u001b[0mhannari_dict\u001b[0m\u001b[0;34m[\u001b[0m\u001b[0;36m2\u001b[0m\u001b[0;34m]\u001b[0m\u001b[0;34m\u001b[0m\u001b[0;34m\u001b[0m\u001b[0m\n\u001b[0m",
      "\u001b[0;31mKeyError\u001b[0m: 2"
     ]
    }
   ],
   "source": [
    "hannari_dict[2]"
   ]
  },
  {
   "cell_type": "code",
   "execution_count": 35,
   "metadata": {},
   "outputs": [
    {
     "data": {
      "text/plain": [
       "3"
      ]
     },
     "execution_count": 35,
     "metadata": {},
     "output_type": "execute_result"
    }
   ],
   "source": [
    "hannari_dict[\"c\"]"
   ]
  },
  {
   "cell_type": "code",
   "execution_count": 36,
   "metadata": {},
   "outputs": [
    {
     "name": "stdout",
     "output_type": "stream",
     "text": [
      "dict_items([('a', 1), ('b', 2), ('c', 3), ('d', 4), ('e', 5)])\n",
      "dict_keys(['a', 'b', 'c', 'd', 'e'])\n",
      "dict_values([1, 2, 3, 4, 5])\n"
     ]
    }
   ],
   "source": [
    "print(hannari_dict.items())\n",
    "print(hannari_dict.keys())\n",
    "print(hannari_dict.values())"
   ]
  },
  {
   "cell_type": "markdown",
   "metadata": {},
   "source": [
    "### ファイルを作ったり読み込んだり\n",
    "- openを使ってファイルを作る\n",
    "    - なかってもopen\n",
    "    - 閉じるのを忘れない(close)\n",
    "- with 文\n",
    "    - 閉じる命令をしないで良い"
   ]
  },
  {
   "cell_type": "code",
   "execution_count": 37,
   "metadata": {},
   "outputs": [],
   "source": [
    "greeting = \"こんにちは\"\n",
    "gr_file = open(\"greeting.txt\", \"w\")\n",
    "gr_file.write(greeting)\n",
    "gr_file.close()"
   ]
  },
  {
   "cell_type": "code",
   "execution_count": 38,
   "metadata": {},
   "outputs": [
    {
     "name": "stdout",
     "output_type": "stream",
     "text": [
      "こんにちは"
     ]
    }
   ],
   "source": [
    "!cat greeting.txt\n",
    "# windowsは\n",
    "# !type greeting.txt"
   ]
  },
  {
   "cell_type": "code",
   "execution_count": 39,
   "metadata": {},
   "outputs": [],
   "source": [
    "greeting = [\"おはよう\", \"こんにちは\", \"おやすみ\"]\n",
    "\n",
    "with open(\"three_g.txt\", \"w\") as f:\n",
    "    for i in greeting:\n",
    "        f.write(f\"{i}\\n\")"
   ]
  },
  {
   "cell_type": "code",
   "execution_count": 40,
   "metadata": {},
   "outputs": [
    {
     "name": "stdout",
     "output_type": "stream",
     "text": [
      "おはよう\n",
      "こんにちは\n",
      "おやすみ\n"
     ]
    }
   ],
   "source": [
    "!cat three_g.txt"
   ]
  },
  {
   "cell_type": "markdown",
   "metadata": {},
   "source": [
    "## 制御ツール\n",
    "- while 文\n",
    "- if 文\n",
    "    - 条件分岐\n",
    "- for 文\n",
    "    - 繰り返す\n",
    "\n",
    "### お手伝いツール    \n",
    "- range 関数\n",
    "    - [組み込み関数](https://docs.python.org/ja/3/library/functions.html)\n",
    "    - [range関数](https://docs.python.org/ja/3/library/stdtypes.html#ranges)\n",
    "- breakとcontinueのelse\n",
    "- pass"
   ]
  },
  {
   "cell_type": "code",
   "execution_count": 41,
   "metadata": {},
   "outputs": [],
   "source": [
    "cntl = \"abcd\" "
   ]
  },
  {
   "cell_type": "code",
   "execution_count": 42,
   "metadata": {},
   "outputs": [
    {
     "name": "stdout",
     "output_type": "stream",
     "text": [
      "cntl is start with a\n"
     ]
    }
   ],
   "source": [
    "if cntl.startswith(\"a\"):\n",
    "    print(\"cntl is start with a\")\n",
    "else:\n",
    "    print(\"not start with a\")"
   ]
  },
  {
   "cell_type": "code",
   "execution_count": 43,
   "metadata": {},
   "outputs": [
    {
     "name": "stdout",
     "output_type": "stream",
     "text": [
      "a\n",
      "b\n",
      "c\n",
      "d\n"
     ]
    }
   ],
   "source": [
    "for c in cntl:\n",
    "    print(c)"
   ]
  },
  {
   "cell_type": "code",
   "execution_count": 44,
   "metadata": {},
   "outputs": [
    {
     "data": {
      "text/plain": [
       "range(0, 10)"
      ]
     },
     "execution_count": 44,
     "metadata": {},
     "output_type": "execute_result"
    }
   ],
   "source": [
    "range(10)"
   ]
  },
  {
   "cell_type": "code",
   "execution_count": 45,
   "metadata": {},
   "outputs": [
    {
     "data": {
      "text/plain": [
       "[0, 1, 2, 3, 4, 5, 6, 7, 8, 9]"
      ]
     },
     "execution_count": 45,
     "metadata": {},
     "output_type": "execute_result"
    }
   ],
   "source": [
    "list(range(10))"
   ]
  },
  {
   "cell_type": "code",
   "execution_count": 46,
   "metadata": {},
   "outputs": [
    {
     "name": "stdout",
     "output_type": "stream",
     "text": [
      "Help on class range in module builtins:\n",
      "\n",
      "class range(object)\n",
      " |  range(stop) -> range object\n",
      " |  range(start, stop[, step]) -> range object\n",
      " |  \n",
      " |  Return an object that produces a sequence of integers from start (inclusive)\n",
      " |  to stop (exclusive) by step.  range(i, j) produces i, i+1, i+2, ..., j-1.\n",
      " |  start defaults to 0, and stop is omitted!  range(4) produces 0, 1, 2, 3.\n",
      " |  These are exactly the valid indices for a list of 4 elements.\n",
      " |  When step is given, it specifies the increment (or decrement).\n",
      " |  \n",
      " |  Methods defined here:\n",
      " |  \n",
      " |  __bool__(self, /)\n",
      " |      self != 0\n",
      " |  \n",
      " |  __contains__(self, key, /)\n",
      " |      Return key in self.\n",
      " |  \n",
      " |  __eq__(self, value, /)\n",
      " |      Return self==value.\n",
      " |  \n",
      " |  __ge__(self, value, /)\n",
      " |      Return self>=value.\n",
      " |  \n",
      " |  __getattribute__(self, name, /)\n",
      " |      Return getattr(self, name).\n",
      " |  \n",
      " |  __getitem__(self, key, /)\n",
      " |      Return self[key].\n",
      " |  \n",
      " |  __gt__(self, value, /)\n",
      " |      Return self>value.\n",
      " |  \n",
      " |  __hash__(self, /)\n",
      " |      Return hash(self).\n",
      " |  \n",
      " |  __iter__(self, /)\n",
      " |      Implement iter(self).\n",
      " |  \n",
      " |  __le__(self, value, /)\n",
      " |      Return self<=value.\n",
      " |  \n",
      " |  __len__(self, /)\n",
      " |      Return len(self).\n",
      " |  \n",
      " |  __lt__(self, value, /)\n",
      " |      Return self<value.\n",
      " |  \n",
      " |  __ne__(self, value, /)\n",
      " |      Return self!=value.\n",
      " |  \n",
      " |  __reduce__(...)\n",
      " |      Helper for pickle.\n",
      " |  \n",
      " |  __repr__(self, /)\n",
      " |      Return repr(self).\n",
      " |  \n",
      " |  __reversed__(...)\n",
      " |      Return a reverse iterator.\n",
      " |  \n",
      " |  count(...)\n",
      " |      rangeobject.count(value) -> integer -- return number of occurrences of value\n",
      " |  \n",
      " |  index(...)\n",
      " |      rangeobject.index(value) -> integer -- return index of value.\n",
      " |      Raise ValueError if the value is not present.\n",
      " |  \n",
      " |  ----------------------------------------------------------------------\n",
      " |  Static methods defined here:\n",
      " |  \n",
      " |  __new__(*args, **kwargs) from builtins.type\n",
      " |      Create and return a new object.  See help(type) for accurate signature.\n",
      " |  \n",
      " |  ----------------------------------------------------------------------\n",
      " |  Data descriptors defined here:\n",
      " |  \n",
      " |  start\n",
      " |  \n",
      " |  step\n",
      " |  \n",
      " |  stop\n",
      "\n"
     ]
    }
   ],
   "source": [
    "## 関数はhelp()で使い方が見れる\n",
    "help(range)"
   ]
  },
  {
   "cell_type": "code",
   "execution_count": 47,
   "metadata": {},
   "outputs": [
    {
     "data": {
      "text/plain": [
       "[0, 10, 20, 30, 40, 50, 60, 70, 80, 90]"
      ]
     },
     "execution_count": 47,
     "metadata": {},
     "output_type": "execute_result"
    }
   ],
   "source": [
    "list(range(0,100,10))"
   ]
  },
  {
   "cell_type": "markdown",
   "metadata": {},
   "source": [
    "## <span style=\"color: red;\">課題</span>\n",
    "- 1から10までの数値の入ったリストを作成しましょう\n",
    "- 次にリストの値をキーに、その値の二乗をバリューにもつ辞書を作成しましょう\n",
    "- 出来たら1000までの3で割れる数字で同じことをしましょう\n",
    "- 100までの数のリストを作成し、if文とfor分を使って3で割れるリスト、5で割れるリスト、両方で割れるリストをそれぞれ作成しましょう。"
   ]
  },
  {
   "cell_type": "markdown",
   "metadata": {},
   "source": [
    "### モジュールを使おう\n",
    "- pythonの良いところはたくさんモジュールがあるところ\n",
    "- [標準モジュール](https://docs.python.org/ja/3/library/index.html)\n",
    "- モジュールというのは何かをやるためのプログラム\n",
    "- これがあるので少しだけプログラミングが楽にできる\n",
    "- 標準モジュール以外にも使えるモジュールがたくさん（外部モジュール）\n",
    "- [PIPY](https://pypi.org/)"
   ]
  },
  {
   "cell_type": "code",
   "execution_count": 48,
   "metadata": {},
   "outputs": [
    {
     "data": {
      "text/plain": [
       "<re.Match object; span=(0, 1), match='こ'>"
      ]
     },
     "execution_count": 48,
     "metadata": {},
     "output_type": "execute_result"
    }
   ],
   "source": [
    "# 正規表現\n",
    "import re\n",
    "こハンター = re.compile(\"こ\")\n",
    "こハンター.search(\"こんにちは\")"
   ]
  },
  {
   "cell_type": "code",
   "execution_count": 49,
   "metadata": {},
   "outputs": [
    {
     "data": {
      "text/plain": [
       "<re.Match object; span=(0, 1), match='こ'>"
      ]
     },
     "execution_count": 49,
     "metadata": {},
     "output_type": "execute_result"
    }
   ],
   "source": [
    "こハンター.search(\"ことしのことりはこんなにこんなんだ\")"
   ]
  },
  {
   "cell_type": "code",
   "execution_count": 50,
   "metadata": {},
   "outputs": [
    {
     "data": {
      "text/plain": [
       "['こ', 'こ', 'こ', 'こ']"
      ]
     },
     "execution_count": 50,
     "metadata": {},
     "output_type": "execute_result"
    }
   ],
   "source": [
    "こハンター.findall(\"ことしのことりはこんなにこんなんだ\")"
   ]
  },
  {
   "cell_type": "code",
   "execution_count": 51,
   "metadata": {},
   "outputs": [
    {
     "data": {
      "text/plain": [
       "['', 'としの', 'とりは', 'んなに', 'んなんだ']"
      ]
     },
     "execution_count": 51,
     "metadata": {},
     "output_type": "execute_result"
    }
   ],
   "source": [
    "こハンター.split(\"ことしのことりはこんなにこんなんだ\")"
   ]
  },
  {
   "cell_type": "code",
   "execution_count": 52,
   "metadata": {},
   "outputs": [
    {
     "data": {
      "text/plain": [
       "datetime.datetime(2019, 11, 10, 15, 25, 9, 969474)"
      ]
     },
     "execution_count": 52,
     "metadata": {},
     "output_type": "execute_result"
    }
   ],
   "source": [
    "# 日付を扱う\n",
    "import datetime\n",
    "datetime.datetime.now()"
   ]
  },
  {
   "cell_type": "code",
   "execution_count": 53,
   "metadata": {},
   "outputs": [
    {
     "data": {
      "text/plain": [
       "83"
      ]
     },
     "execution_count": 53,
     "metadata": {},
     "output_type": "execute_result"
    }
   ],
   "source": [
    "# ランダムな数値を扱う\n",
    "import random\n",
    "random.randint(1, 100)"
   ]
  },
  {
   "cell_type": "code",
   "execution_count": 54,
   "metadata": {},
   "outputs": [
    {
     "name": "stdout",
     "output_type": "stream",
     "text": [
      "[[[1. 1. 1. 1. 1.]\n",
      "  [1. 1. 1. 1. 1.]\n",
      "  [1. 1. 1. 1. 1.]\n",
      "  [1. 1. 1. 1. 1.]\n",
      "  [1. 1. 1. 1. 1.]]\n",
      "\n",
      " [[1. 1. 1. 1. 1.]\n",
      "  [1. 1. 1. 1. 1.]\n",
      "  [1. 1. 1. 1. 1.]\n",
      "  [1. 1. 1. 1. 1.]\n",
      "  [1. 1. 1. 1. 1.]]\n",
      "\n",
      " [[1. 1. 1. 1. 1.]\n",
      "  [1. 1. 1. 1. 1.]\n",
      "  [1. 1. 1. 1. 1.]\n",
      "  [1. 1. 1. 1. 1.]\n",
      "  [1. 1. 1. 1. 1.]]\n",
      "\n",
      " [[1. 1. 1. 1. 1.]\n",
      "  [1. 1. 1. 1. 1.]\n",
      "  [1. 1. 1. 1. 1.]\n",
      "  [1. 1. 1. 1. 1.]\n",
      "  [1. 1. 1. 1. 1.]]\n",
      "\n",
      " [[1. 1. 1. 1. 1.]\n",
      "  [1. 1. 1. 1. 1.]\n",
      "  [1. 1. 1. 1. 1.]\n",
      "  [1. 1. 1. 1. 1.]\n",
      "  [1. 1. 1. 1. 1.]]]\n"
     ]
    }
   ],
   "source": [
    "# 外部モジュール 行列\n",
    "import numpy as np\n",
    "npone = np.ones([5,5,5])\n",
    "print(npone)"
   ]
  },
  {
   "cell_type": "code",
   "execution_count": 55,
   "metadata": {},
   "outputs": [
    {
     "data": {
      "text/plain": [
       "array([[1., 1., 1., 1., 1.],\n",
       "       [1., 1., 1., 1., 1.],\n",
       "       [1., 1., 1., 1., 1.],\n",
       "       [1., 1., 1., 1., 1.],\n",
       "       [1., 1., 1., 1., 1.]])"
      ]
     },
     "execution_count": 55,
     "metadata": {},
     "output_type": "execute_result"
    }
   ],
   "source": [
    "npone[1]"
   ]
  },
  {
   "cell_type": "code",
   "execution_count": 56,
   "metadata": {},
   "outputs": [],
   "source": [
    "for i in range(5):\n",
    "    npone[i] = (i+1)*2"
   ]
  },
  {
   "cell_type": "code",
   "execution_count": 57,
   "metadata": {},
   "outputs": [
    {
     "data": {
      "text/plain": [
       "array([[[ 2.,  2.,  2.,  2.,  2.],\n",
       "        [ 2.,  2.,  2.,  2.,  2.],\n",
       "        [ 2.,  2.,  2.,  2.,  2.],\n",
       "        [ 2.,  2.,  2.,  2.,  2.],\n",
       "        [ 2.,  2.,  2.,  2.,  2.]],\n",
       "\n",
       "       [[ 4.,  4.,  4.,  4.,  4.],\n",
       "        [ 4.,  4.,  4.,  4.,  4.],\n",
       "        [ 4.,  4.,  4.,  4.,  4.],\n",
       "        [ 4.,  4.,  4.,  4.,  4.],\n",
       "        [ 4.,  4.,  4.,  4.,  4.]],\n",
       "\n",
       "       [[ 6.,  6.,  6.,  6.,  6.],\n",
       "        [ 6.,  6.,  6.,  6.,  6.],\n",
       "        [ 6.,  6.,  6.,  6.,  6.],\n",
       "        [ 6.,  6.,  6.,  6.,  6.],\n",
       "        [ 6.,  6.,  6.,  6.,  6.]],\n",
       "\n",
       "       [[ 8.,  8.,  8.,  8.,  8.],\n",
       "        [ 8.,  8.,  8.,  8.,  8.],\n",
       "        [ 8.,  8.,  8.,  8.,  8.],\n",
       "        [ 8.,  8.,  8.,  8.,  8.],\n",
       "        [ 8.,  8.,  8.,  8.,  8.]],\n",
       "\n",
       "       [[10., 10., 10., 10., 10.],\n",
       "        [10., 10., 10., 10., 10.],\n",
       "        [10., 10., 10., 10., 10.],\n",
       "        [10., 10., 10., 10., 10.],\n",
       "        [10., 10., 10., 10., 10.]]])"
      ]
     },
     "execution_count": 57,
     "metadata": {},
     "output_type": "execute_result"
    }
   ],
   "source": [
    "npone"
   ]
  },
  {
   "cell_type": "code",
   "execution_count": 58,
   "metadata": {},
   "outputs": [
    {
     "data": {
      "text/plain": [
       "array([[[1.41421356, 1.41421356, 1.41421356, 1.41421356, 1.41421356],\n",
       "        [1.41421356, 1.41421356, 1.41421356, 1.41421356, 1.41421356],\n",
       "        [1.41421356, 1.41421356, 1.41421356, 1.41421356, 1.41421356],\n",
       "        [1.41421356, 1.41421356, 1.41421356, 1.41421356, 1.41421356],\n",
       "        [1.41421356, 1.41421356, 1.41421356, 1.41421356, 1.41421356]],\n",
       "\n",
       "       [[2.        , 2.        , 2.        , 2.        , 2.        ],\n",
       "        [2.        , 2.        , 2.        , 2.        , 2.        ],\n",
       "        [2.        , 2.        , 2.        , 2.        , 2.        ],\n",
       "        [2.        , 2.        , 2.        , 2.        , 2.        ],\n",
       "        [2.        , 2.        , 2.        , 2.        , 2.        ]],\n",
       "\n",
       "       [[2.44948974, 2.44948974, 2.44948974, 2.44948974, 2.44948974],\n",
       "        [2.44948974, 2.44948974, 2.44948974, 2.44948974, 2.44948974],\n",
       "        [2.44948974, 2.44948974, 2.44948974, 2.44948974, 2.44948974],\n",
       "        [2.44948974, 2.44948974, 2.44948974, 2.44948974, 2.44948974],\n",
       "        [2.44948974, 2.44948974, 2.44948974, 2.44948974, 2.44948974]],\n",
       "\n",
       "       [[2.82842712, 2.82842712, 2.82842712, 2.82842712, 2.82842712],\n",
       "        [2.82842712, 2.82842712, 2.82842712, 2.82842712, 2.82842712],\n",
       "        [2.82842712, 2.82842712, 2.82842712, 2.82842712, 2.82842712],\n",
       "        [2.82842712, 2.82842712, 2.82842712, 2.82842712, 2.82842712],\n",
       "        [2.82842712, 2.82842712, 2.82842712, 2.82842712, 2.82842712]],\n",
       "\n",
       "       [[3.16227766, 3.16227766, 3.16227766, 3.16227766, 3.16227766],\n",
       "        [3.16227766, 3.16227766, 3.16227766, 3.16227766, 3.16227766],\n",
       "        [3.16227766, 3.16227766, 3.16227766, 3.16227766, 3.16227766],\n",
       "        [3.16227766, 3.16227766, 3.16227766, 3.16227766, 3.16227766],\n",
       "        [3.16227766, 3.16227766, 3.16227766, 3.16227766, 3.16227766]]])"
      ]
     },
     "execution_count": 58,
     "metadata": {},
     "output_type": "execute_result"
    }
   ],
   "source": [
    "np.sqrt(npone)"
   ]
  },
  {
   "cell_type": "code",
   "execution_count": 68,
   "metadata": {},
   "outputs": [],
   "source": [
    "nprand = np.random.random([25,2]) * 10"
   ]
  },
  {
   "cell_type": "code",
   "execution_count": 69,
   "metadata": {},
   "outputs": [],
   "source": [
    "# 外部モジュール pandas \n",
    "import pandas as pd\n",
    "df = pd.DataFrame(nprand)\n"
   ]
  },
  {
   "cell_type": "code",
   "execution_count": 70,
   "metadata": {},
   "outputs": [
    {
     "data": {
      "text/html": [
       "<div>\n",
       "<style scoped>\n",
       "    .dataframe tbody tr th:only-of-type {\n",
       "        vertical-align: middle;\n",
       "    }\n",
       "\n",
       "    .dataframe tbody tr th {\n",
       "        vertical-align: top;\n",
       "    }\n",
       "\n",
       "    .dataframe thead th {\n",
       "        text-align: right;\n",
       "    }\n",
       "</style>\n",
       "<table border=\"1\" class=\"dataframe\">\n",
       "  <thead>\n",
       "    <tr style=\"text-align: right;\">\n",
       "      <th></th>\n",
       "      <th>0</th>\n",
       "      <th>1</th>\n",
       "    </tr>\n",
       "  </thead>\n",
       "  <tbody>\n",
       "    <tr>\n",
       "      <th>0</th>\n",
       "      <td>2.253886</td>\n",
       "      <td>0.096294</td>\n",
       "    </tr>\n",
       "    <tr>\n",
       "      <th>1</th>\n",
       "      <td>9.304767</td>\n",
       "      <td>2.572384</td>\n",
       "    </tr>\n",
       "    <tr>\n",
       "      <th>2</th>\n",
       "      <td>3.225329</td>\n",
       "      <td>1.643572</td>\n",
       "    </tr>\n",
       "    <tr>\n",
       "      <th>3</th>\n",
       "      <td>8.437192</td>\n",
       "      <td>6.148741</td>\n",
       "    </tr>\n",
       "    <tr>\n",
       "      <th>4</th>\n",
       "      <td>0.542670</td>\n",
       "      <td>0.015837</td>\n",
       "    </tr>\n",
       "    <tr>\n",
       "      <th>5</th>\n",
       "      <td>0.921478</td>\n",
       "      <td>4.010724</td>\n",
       "    </tr>\n",
       "    <tr>\n",
       "      <th>6</th>\n",
       "      <td>0.890065</td>\n",
       "      <td>2.067602</td>\n",
       "    </tr>\n",
       "    <tr>\n",
       "      <th>7</th>\n",
       "      <td>9.679291</td>\n",
       "      <td>9.719699</td>\n",
       "    </tr>\n",
       "    <tr>\n",
       "      <th>8</th>\n",
       "      <td>7.988833</td>\n",
       "      <td>0.964971</td>\n",
       "    </tr>\n",
       "    <tr>\n",
       "      <th>9</th>\n",
       "      <td>7.695808</td>\n",
       "      <td>7.244579</td>\n",
       "    </tr>\n",
       "    <tr>\n",
       "      <th>10</th>\n",
       "      <td>4.507634</td>\n",
       "      <td>1.944583</td>\n",
       "    </tr>\n",
       "    <tr>\n",
       "      <th>11</th>\n",
       "      <td>8.376456</td>\n",
       "      <td>1.832652</td>\n",
       "    </tr>\n",
       "    <tr>\n",
       "      <th>12</th>\n",
       "      <td>1.774976</td>\n",
       "      <td>7.326277</td>\n",
       "    </tr>\n",
       "    <tr>\n",
       "      <th>13</th>\n",
       "      <td>4.749525</td>\n",
       "      <td>1.986305</td>\n",
       "    </tr>\n",
       "    <tr>\n",
       "      <th>14</th>\n",
       "      <td>6.748940</td>\n",
       "      <td>5.863176</td>\n",
       "    </tr>\n",
       "    <tr>\n",
       "      <th>15</th>\n",
       "      <td>3.866203</td>\n",
       "      <td>7.011604</td>\n",
       "    </tr>\n",
       "    <tr>\n",
       "      <th>16</th>\n",
       "      <td>2.602628</td>\n",
       "      <td>5.528881</td>\n",
       "    </tr>\n",
       "    <tr>\n",
       "      <th>17</th>\n",
       "      <td>9.343184</td>\n",
       "      <td>4.928505</td>\n",
       "    </tr>\n",
       "    <tr>\n",
       "      <th>18</th>\n",
       "      <td>9.807981</td>\n",
       "      <td>2.294308</td>\n",
       "    </tr>\n",
       "    <tr>\n",
       "      <th>19</th>\n",
       "      <td>3.209658</td>\n",
       "      <td>5.664374</td>\n",
       "    </tr>\n",
       "    <tr>\n",
       "      <th>20</th>\n",
       "      <td>5.744098</td>\n",
       "      <td>9.516488</td>\n",
       "    </tr>\n",
       "    <tr>\n",
       "      <th>21</th>\n",
       "      <td>7.241031</td>\n",
       "      <td>2.484834</td>\n",
       "    </tr>\n",
       "    <tr>\n",
       "      <th>22</th>\n",
       "      <td>3.619869</td>\n",
       "      <td>0.825996</td>\n",
       "    </tr>\n",
       "    <tr>\n",
       "      <th>23</th>\n",
       "      <td>8.903245</td>\n",
       "      <td>5.477106</td>\n",
       "    </tr>\n",
       "    <tr>\n",
       "      <th>24</th>\n",
       "      <td>1.855391</td>\n",
       "      <td>7.987498</td>\n",
       "    </tr>\n",
       "  </tbody>\n",
       "</table>\n",
       "</div>"
      ],
      "text/plain": [
       "           0         1\n",
       "0   2.253886  0.096294\n",
       "1   9.304767  2.572384\n",
       "2   3.225329  1.643572\n",
       "3   8.437192  6.148741\n",
       "4   0.542670  0.015837\n",
       "5   0.921478  4.010724\n",
       "6   0.890065  2.067602\n",
       "7   9.679291  9.719699\n",
       "8   7.988833  0.964971\n",
       "9   7.695808  7.244579\n",
       "10  4.507634  1.944583\n",
       "11  8.376456  1.832652\n",
       "12  1.774976  7.326277\n",
       "13  4.749525  1.986305\n",
       "14  6.748940  5.863176\n",
       "15  3.866203  7.011604\n",
       "16  2.602628  5.528881\n",
       "17  9.343184  4.928505\n",
       "18  9.807981  2.294308\n",
       "19  3.209658  5.664374\n",
       "20  5.744098  9.516488\n",
       "21  7.241031  2.484834\n",
       "22  3.619869  0.825996\n",
       "23  8.903245  5.477106\n",
       "24  1.855391  7.987498"
      ]
     },
     "execution_count": 70,
     "metadata": {},
     "output_type": "execute_result"
    }
   ],
   "source": [
    "df"
   ]
  },
  {
   "cell_type": "code",
   "execution_count": 72,
   "metadata": {},
   "outputs": [
    {
     "data": {
      "text/plain": [
       "<matplotlib.collections.PathCollection at 0x7fa048469160>"
      ]
     },
     "execution_count": 72,
     "metadata": {},
     "output_type": "execute_result"
    },
    {
     "data": {
      "image/png": "[encoded data removed]",
      "text/plain": [
       "<Figure size 432x288 with 1 Axes>"
      ]
     },
     "metadata": {
      "needs_background": "light"
     },
     "output_type": "display_data"
    }
   ],
   "source": [
    "import matplotlib.pyplot as plt\n",
    "%matplotlib inline\n",
    "\n",
    "plt.scatter(df[0], df[1])"
   ]
  },
  {
   "cell_type": "markdown",
   "metadata": {},
   "source": [
    "## 関数の定義\n",
    "- これを行うことにより、再利用が可能に\n",
    "- defを使って定義\n",
    "- マルチバイトの名前も可能\n",
    "- ここにも新機能が！\n",
    "    - New!! 位置専用引数デバッグ用機能"
   ]
  },
  {
   "cell_type": "code",
   "execution_count": 73,
   "metadata": {},
   "outputs": [],
   "source": [
    "def 何とかパイ(nantoka):\n",
    "    print(f\"{nantoka}python\")"
   ]
  },
  {
   "cell_type": "code",
   "execution_count": 74,
   "metadata": {},
   "outputs": [
    {
     "name": "stdout",
     "output_type": "stream",
     "text": [
      "はんなりpython\n"
     ]
    }
   ],
   "source": [
    "何とかパイ(\"はんなり\")"
   ]
  },
  {
   "cell_type": "code",
   "execution_count": 75,
   "metadata": {},
   "outputs": [],
   "source": [
    "# フィボナッチ数列を求める関数\n",
    "\n",
    "def fib(n):\n",
    "    fiblist = []\n",
    "    a, b = 0, 1\n",
    "    while a < n:\n",
    "        fiblist.append(a)\n",
    "        a, b = b, a+b\n",
    "    return fiblist\n",
    "        "
   ]
  },
  {
   "cell_type": "code",
   "execution_count": 76,
   "metadata": {},
   "outputs": [
    {
     "data": {
      "text/plain": [
       "[0, 1, 1, 2, 3, 5, 8, 13, 21, 34, 55, 89]"
      ]
     },
     "execution_count": 76,
     "metadata": {},
     "output_type": "execute_result"
    }
   ],
   "source": [
    "fib(100)"
   ]
  },
  {
   "cell_type": "markdown",
   "metadata": {},
   "source": [
    "## 関数の引数の設定方法\n",
    "### デフォルトの引数値\n",
    "- デフォルト引数を持たないもの（位置引数 positional arguments）\n",
    "- 持つものを引数に設定できる　（キーワード引数 keyword arguments）\n",
    "- 位置引数はキーワード引数の前に置く\n",
    "- そうすると引数をすべて与えなくても関数が動く"
   ]
  },
  {
   "cell_type": "code",
   "execution_count": 77,
   "metadata": {},
   "outputs": [],
   "source": [
    "def order_three(drink, main=\"ハンバーガ\", side=\"サラダ\"):\n",
    "    print(f\"私の注文は、飲み物：{drink}、メイン：{main}、サイド：{side}でお願いします。\")\n",
    "    "
   ]
  },
  {
   "cell_type": "code",
   "execution_count": 78,
   "metadata": {},
   "outputs": [
    {
     "ename": "SyntaxError",
     "evalue": "non-default argument follows default argument (<ipython-input-78-8c05d57b06a0>, line 1)",
     "output_type": "error",
     "traceback": [
      "\u001b[0;36m  File \u001b[0;32m\"<ipython-input-78-8c05d57b06a0>\"\u001b[0;36m, line \u001b[0;32m1\u001b[0m\n\u001b[0;31m    def misorder_three(main=\"ハンバーガ\", side=\"サラダ\", drink):\u001b[0m\n\u001b[0m                       ^\u001b[0m\n\u001b[0;31mSyntaxError\u001b[0m\u001b[0;31m:\u001b[0m non-default argument follows default argument\n"
     ]
    }
   ],
   "source": [
    "def misorder_three(main=\"ハンバーガ\", side=\"サラダ\", drink):\n",
    "    print(f\"私の注文は、飲み物：{main}、メイン：{side}、サイド：{drink}でお願いします。\")\n",
    "    "
   ]
  },
  {
   "cell_type": "code",
   "execution_count": 79,
   "metadata": {},
   "outputs": [
    {
     "name": "stdout",
     "output_type": "stream",
     "text": [
      "私の注文は、飲み物：コーラ、メイン：ハンバーガ、サイド：サラダでお願いします。\n"
     ]
    }
   ],
   "source": [
    "order_three(\"コーラ\")"
   ]
  },
  {
   "cell_type": "code",
   "execution_count": 80,
   "metadata": {},
   "outputs": [
    {
     "name": "stdout",
     "output_type": "stream",
     "text": [
      "私の注文は、飲み物：コーラ、メイン：ラーメン、サイド：サラダでお願いします。\n"
     ]
    }
   ],
   "source": [
    "order_three(\"コーラ\", main=\"ラーメン\")"
   ]
  },
  {
   "cell_type": "code",
   "execution_count": 81,
   "metadata": {},
   "outputs": [
    {
     "ename": "TypeError",
     "evalue": "order_three() missing 1 required positional argument: 'drink'",
     "output_type": "error",
     "traceback": [
      "\u001b[0;31m---------------------------------------------------------------------------\u001b[0m",
      "\u001b[0;31mTypeError\u001b[0m                                 Traceback (most recent call last)",
      "\u001b[0;32m<ipython-input-81-2785590d82fe>\u001b[0m in \u001b[0;36m<module>\u001b[0;34m\u001b[0m\n\u001b[1;32m      1\u001b[0m \u001b[0;31m# 何も指定しないとエラーになる\u001b[0m\u001b[0;34m\u001b[0m\u001b[0;34m\u001b[0m\u001b[0;34m\u001b[0m\u001b[0m\n\u001b[0;32m----> 2\u001b[0;31m \u001b[0morder_three\u001b[0m\u001b[0;34m(\u001b[0m\u001b[0;34m)\u001b[0m\u001b[0;34m\u001b[0m\u001b[0;34m\u001b[0m\u001b[0m\n\u001b[0m",
      "\u001b[0;31mTypeError\u001b[0m: order_three() missing 1 required positional argument: 'drink'"
     ]
    }
   ],
   "source": [
    "# 何も指定しないとエラーになる\n",
    "order_three()"
   ]
  },
  {
   "cell_type": "markdown",
   "metadata": {},
   "source": [
    "### New f-stringにも新機能が！！！\n",
    "- f\"{変数=}\"の形で代入を確認できる\n",
    "- f-string周りは色々変更があったがこれは良いような"
   ]
  },
  {
   "cell_type": "code",
   "execution_count": 82,
   "metadata": {},
   "outputs": [],
   "source": [
    "def order_three(drink, main=\"ハンバーガ\", side=\"サラダ\"):\n",
    "    print(f\"私の注文は、飲み物：{drink=}、メイン：{main=}、サイド：{side=}でお願いします。\")\n",
    "   "
   ]
  },
  {
   "cell_type": "code",
   "execution_count": 83,
   "metadata": {},
   "outputs": [
    {
     "name": "stdout",
     "output_type": "stream",
     "text": [
      "私の注文は、飲み物：drink='ファンタ'、メイン：main='ハンバーガ'、サイド：side='サラダ'でお願いします。\n"
     ]
    }
   ],
   "source": [
    "order_three(\"ファンタ\")"
   ]
  },
  {
   "cell_type": "code",
   "execution_count": 84,
   "metadata": {},
   "outputs": [],
   "source": [
    "def test_args(*args):\n",
    "    for a in args:\n",
    "        print(\"「{}」\".format(a))"
   ]
  },
  {
   "cell_type": "code",
   "execution_count": 85,
   "metadata": {},
   "outputs": [
    {
     "name": "stdout",
     "output_type": "stream",
     "text": [
      "「こんにちは」\n",
      "「こんにちは」\n",
      "「最近どうですか？」\n",
      "「良い感じです」\n"
     ]
    }
   ],
   "source": [
    "test_args(\"こんにちは\", \"こんにちは\", \"最近どうですか？\", \"良い感じです\")"
   ]
  },
  {
   "cell_type": "code",
   "execution_count": 86,
   "metadata": {},
   "outputs": [],
   "source": [
    "def hanpy1(one, two, three, four=\"ウィングス京都\"):\n",
    "    print(one, two, three, four)"
   ]
  },
  {
   "cell_type": "code",
   "execution_count": 87,
   "metadata": {},
   "outputs": [
    {
     "name": "stdout",
     "output_type": "stream",
     "text": [
      "スプーキーズさん マネーフォワードさん さんさんさん ウィングス京都\n"
     ]
    }
   ],
   "source": [
    "hanpy1(\"スプーキーズさん\", \"マネーフォワードさん\", \"さんさんさん\")"
   ]
  },
  {
   "cell_type": "markdown",
   "metadata": {},
   "source": [
    "### python3.0でキーワード専用引数を指定できるように！「*」"
   ]
  },
  {
   "cell_type": "code",
   "execution_count": 88,
   "metadata": {},
   "outputs": [],
   "source": [
    "def hanpy1(one, two, three, *,four=\"ウィングス京都\"):\n",
    "    print(one, two, three, four)"
   ]
  },
  {
   "cell_type": "code",
   "execution_count": 89,
   "metadata": {},
   "outputs": [],
   "source": [
    "def hanpy1(one, two, *,three, four=\"ウィングス京都\"):\n",
    "    print(one, two, three, four)"
   ]
  },
  {
   "cell_type": "code",
   "execution_count": 90,
   "metadata": {},
   "outputs": [
    {
     "ename": "TypeError",
     "evalue": "hanpy1() takes 2 positional arguments but 3 were given",
     "output_type": "error",
     "traceback": [
      "\u001b[0;31m---------------------------------------------------------------------------\u001b[0m",
      "\u001b[0;31mTypeError\u001b[0m                                 Traceback (most recent call last)",
      "\u001b[0;32m<ipython-input-90-ca792396e259>\u001b[0m in \u001b[0;36m<module>\u001b[0;34m\u001b[0m\n\u001b[0;32m----> 1\u001b[0;31m \u001b[0mhanpy1\u001b[0m\u001b[0;34m(\u001b[0m\u001b[0;34m\"スプーキーズさん\"\u001b[0m\u001b[0;34m,\u001b[0m \u001b[0;34m\"マネーフォワードさん\"\u001b[0m\u001b[0;34m,\u001b[0m \u001b[0;34m\"さんさんさん\"\u001b[0m\u001b[0;34m)\u001b[0m\u001b[0;34m\u001b[0m\u001b[0;34m\u001b[0m\u001b[0m\n\u001b[0m",
      "\u001b[0;31mTypeError\u001b[0m: hanpy1() takes 2 positional arguments but 3 were given"
     ]
    }
   ],
   "source": [
    "hanpy1(\"スプーキーズさん\", \"マネーフォワードさん\", \"さんさんさん\")"
   ]
  },
  {
   "cell_type": "code",
   "execution_count": 91,
   "metadata": {},
   "outputs": [
    {
     "name": "stdout",
     "output_type": "stream",
     "text": [
      "スプーキーズさん マネーフォワードさん さんさんさん ウィングス京都\n"
     ]
    }
   ],
   "source": [
    "hanpy1(\"スプーキーズさん\", \"マネーフォワードさん\", three=\"さんさんさん\")"
   ]
  },
  {
   "cell_type": "markdown",
   "metadata": {},
   "source": [
    "### NEW python3.8で位置専用引数を指定できるように 「/」"
   ]
  },
  {
   "cell_type": "code",
   "execution_count": 92,
   "metadata": {},
   "outputs": [],
   "source": [
    "def hanpy1(one, two, /,three, four=\"ウィングス京都\"):\n",
    "    print(one, two, three, four)"
   ]
  },
  {
   "cell_type": "code",
   "execution_count": 93,
   "metadata": {},
   "outputs": [
    {
     "ename": "TypeError",
     "evalue": "hanpy1() got some positional-only arguments passed as keyword arguments: 'two'",
     "output_type": "error",
     "traceback": [
      "\u001b[0;31m---------------------------------------------------------------------------\u001b[0m",
      "\u001b[0;31mTypeError\u001b[0m                                 Traceback (most recent call last)",
      "\u001b[0;32m<ipython-input-93-b02a3db825f5>\u001b[0m in \u001b[0;36m<module>\u001b[0;34m\u001b[0m\n\u001b[0;32m----> 1\u001b[0;31m \u001b[0mhanpy1\u001b[0m\u001b[0;34m(\u001b[0m\u001b[0;34m\"スプーキーズさん\"\u001b[0m\u001b[0;34m,\u001b[0m \u001b[0mtwo\u001b[0m\u001b[0;34m=\u001b[0m\u001b[0;34m\"マネーフォワードさん\"\u001b[0m\u001b[0;34m,\u001b[0m \u001b[0mthree\u001b[0m\u001b[0;34m=\u001b[0m\u001b[0;34m\"さんさんさん\"\u001b[0m\u001b[0;34m)\u001b[0m\u001b[0;34m\u001b[0m\u001b[0;34m\u001b[0m\u001b[0m\n\u001b[0m",
      "\u001b[0;31mTypeError\u001b[0m: hanpy1() got some positional-only arguments passed as keyword arguments: 'two'"
     ]
    }
   ],
   "source": [
    "hanpy1(\"スプーキーズさん\", two=\"マネーフォワードさん\", three=\"さんさんさん\")"
   ]
  },
  {
   "cell_type": "markdown",
   "metadata": {},
   "source": [
    "### class\n",
    "- クラスを作成します\n",
    "- 初心者にとってクラスは分かりにくいです\n",
    "- 今回も関数とクラスどう違うの？ってコメントがありました（来られてないかも）\n",
    "- 私も最近分かりました\n",
    "- 大阪Pythonの会の資料が分かりやすいです。https://scrapbox.io/PythonOsaka/%E3%82%AF%E3%83%A9%E3%82%B9_(%E8%A9%B3%E7%B4%B0%E7%89%88)"
   ]
  },
  {
   "cell_type": "code",
   "execution_count": 94,
   "metadata": {},
   "outputs": [
    {
     "data": {
      "text/plain": [
       "['__abs__',\n",
       " '__add__',\n",
       " '__and__',\n",
       " '__bool__',\n",
       " '__ceil__',\n",
       " '__class__',\n",
       " '__delattr__',\n",
       " '__dir__',\n",
       " '__divmod__',\n",
       " '__doc__',\n",
       " '__eq__',\n",
       " '__float__',\n",
       " '__floor__',\n",
       " '__floordiv__',\n",
       " '__format__',\n",
       " '__ge__',\n",
       " '__getattribute__',\n",
       " '__getnewargs__',\n",
       " '__gt__',\n",
       " '__hash__',\n",
       " '__index__',\n",
       " '__init__',\n",
       " '__init_subclass__',\n",
       " '__int__',\n",
       " '__invert__',\n",
       " '__le__',\n",
       " '__lshift__',\n",
       " '__lt__',\n",
       " '__mod__',\n",
       " '__mul__',\n",
       " '__ne__',\n",
       " '__neg__',\n",
       " '__new__',\n",
       " '__or__',\n",
       " '__pos__',\n",
       " '__pow__',\n",
       " '__radd__',\n",
       " '__rand__',\n",
       " '__rdivmod__',\n",
       " '__reduce__',\n",
       " '__reduce_ex__',\n",
       " '__repr__',\n",
       " '__rfloordiv__',\n",
       " '__rlshift__',\n",
       " '__rmod__',\n",
       " '__rmul__',\n",
       " '__ror__',\n",
       " '__round__',\n",
       " '__rpow__',\n",
       " '__rrshift__',\n",
       " '__rshift__',\n",
       " '__rsub__',\n",
       " '__rtruediv__',\n",
       " '__rxor__',\n",
       " '__setattr__',\n",
       " '__sizeof__',\n",
       " '__str__',\n",
       " '__sub__',\n",
       " '__subclasshook__',\n",
       " '__truediv__',\n",
       " '__trunc__',\n",
       " '__xor__',\n",
       " 'as_integer_ratio',\n",
       " 'bit_length',\n",
       " 'conjugate',\n",
       " 'denominator',\n",
       " 'from_bytes',\n",
       " 'imag',\n",
       " 'numerator',\n",
       " 'real',\n",
       " 'to_bytes']"
      ]
     },
     "execution_count": 94,
     "metadata": {},
     "output_type": "execute_result"
    }
   ],
   "source": [
    "dir(9)"
   ]
  },
  {
   "cell_type": "code",
   "execution_count": 95,
   "metadata": {},
   "outputs": [
    {
     "data": {
      "text/plain": [
       "['__add__',\n",
       " '__class__',\n",
       " '__contains__',\n",
       " '__delattr__',\n",
       " '__dir__',\n",
       " '__doc__',\n",
       " '__eq__',\n",
       " '__format__',\n",
       " '__ge__',\n",
       " '__getattribute__',\n",
       " '__getitem__',\n",
       " '__getnewargs__',\n",
       " '__gt__',\n",
       " '__hash__',\n",
       " '__init__',\n",
       " '__init_subclass__',\n",
       " '__iter__',\n",
       " '__le__',\n",
       " '__len__',\n",
       " '__lt__',\n",
       " '__mod__',\n",
       " '__mul__',\n",
       " '__ne__',\n",
       " '__new__',\n",
       " '__reduce__',\n",
       " '__reduce_ex__',\n",
       " '__repr__',\n",
       " '__rmod__',\n",
       " '__rmul__',\n",
       " '__setattr__',\n",
       " '__sizeof__',\n",
       " '__str__',\n",
       " '__subclasshook__',\n",
       " 'capitalize',\n",
       " 'casefold',\n",
       " 'center',\n",
       " 'count',\n",
       " 'encode',\n",
       " 'endswith',\n",
       " 'expandtabs',\n",
       " 'find',\n",
       " 'format',\n",
       " 'format_map',\n",
       " 'index',\n",
       " 'isalnum',\n",
       " 'isalpha',\n",
       " 'isascii',\n",
       " 'isdecimal',\n",
       " 'isdigit',\n",
       " 'isidentifier',\n",
       " 'islower',\n",
       " 'isnumeric',\n",
       " 'isprintable',\n",
       " 'isspace',\n",
       " 'istitle',\n",
       " 'isupper',\n",
       " 'join',\n",
       " 'ljust',\n",
       " 'lower',\n",
       " 'lstrip',\n",
       " 'maketrans',\n",
       " 'partition',\n",
       " 'replace',\n",
       " 'rfind',\n",
       " 'rindex',\n",
       " 'rjust',\n",
       " 'rpartition',\n",
       " 'rsplit',\n",
       " 'rstrip',\n",
       " 'split',\n",
       " 'splitlines',\n",
       " 'startswith',\n",
       " 'strip',\n",
       " 'swapcase',\n",
       " 'title',\n",
       " 'translate',\n",
       " 'upper',\n",
       " 'zfill']"
      ]
     },
     "execution_count": 95,
     "metadata": {},
     "output_type": "execute_result"
    }
   ],
   "source": [
    "dir(\"string\")"
   ]
  },
  {
   "cell_type": "code",
   "execution_count": 96,
   "metadata": {},
   "outputs": [],
   "source": [
    "class human:\n",
    "    \n",
    "    def __init__(self, name, height, weight, shoe_size):\n",
    "        self.name = name\n",
    "        self.height = height\n",
    "        self.weight = weight\n",
    "        self.shoe_size = shoe_size\n",
    "    \n",
    "    def introduce(self):\n",
    "        print(f\"私の名前は{self.name}です。靴のサイズは{self.shoe_size}です。\")"
   ]
  },
  {
   "cell_type": "code",
   "execution_count": 97,
   "metadata": {},
   "outputs": [],
   "source": [
    "h = human(\"hide\", 180, 75, 28)"
   ]
  },
  {
   "cell_type": "code",
   "execution_count": 98,
   "metadata": {},
   "outputs": [
    {
     "name": "stdout",
     "output_type": "stream",
     "text": [
      "hide\n",
      "75\n",
      "私の名前はhideです。靴のサイズは28です。\n"
     ]
    }
   ],
   "source": [
    "print(h.name)\n",
    "print(h.weight)\n",
    "h.introduce()"
   ]
  },
  {
   "cell_type": "code",
   "execution_count": 99,
   "metadata": {},
   "outputs": [
    {
     "data": {
      "text/plain": [
       "['__class__',\n",
       " '__delattr__',\n",
       " '__dict__',\n",
       " '__dir__',\n",
       " '__doc__',\n",
       " '__eq__',\n",
       " '__format__',\n",
       " '__ge__',\n",
       " '__getattribute__',\n",
       " '__gt__',\n",
       " '__hash__',\n",
       " '__init__',\n",
       " '__init_subclass__',\n",
       " '__le__',\n",
       " '__lt__',\n",
       " '__module__',\n",
       " '__ne__',\n",
       " '__new__',\n",
       " '__reduce__',\n",
       " '__reduce_ex__',\n",
       " '__repr__',\n",
       " '__setattr__',\n",
       " '__sizeof__',\n",
       " '__str__',\n",
       " '__subclasshook__',\n",
       " '__weakref__',\n",
       " 'height',\n",
       " 'introduce',\n",
       " 'name',\n",
       " 'shoe_size',\n",
       " 'weight']"
      ]
     },
     "execution_count": 99,
     "metadata": {},
     "output_type": "execute_result"
    }
   ],
   "source": [
    "dir(h)"
   ]
  },
  {
   "cell_type": "markdown",
   "metadata": {},
   "source": [
    "## 継承\n",
    "- クラスは親の秘伝のたれを発展させることができます\n",
    "- 継承おもろい！"
   ]
  },
  {
   "cell_type": "code",
   "execution_count": 100,
   "metadata": {},
   "outputs": [],
   "source": [
    "class human_diary(human):\n",
    "    \n",
    "    def __init__(self, name, tall, weight, shoe_size):\n",
    "        super().__init__(name, tall, weight, shoe_size)\n",
    "        self.diary = {}\n",
    "        \n",
    "    def write_diary(self, date, article):\n",
    "        self.diary[date] = article\n",
    "        \n",
    "    def know_date(self):\n",
    "        return self.diary.keys()\n",
    "    \n",
    "    def read_diary(self):\n",
    "        if len(self.diary) == 0:\n",
    "            print(\"Diary does not exist.\")\n",
    "        return self.diary"
   ]
  },
  {
   "cell_type": "code",
   "execution_count": 101,
   "metadata": {},
   "outputs": [],
   "source": [
    "hi= human_diary(\"hide\", 180, 75, 28)"
   ]
  },
  {
   "cell_type": "code",
   "execution_count": 102,
   "metadata": {},
   "outputs": [
    {
     "data": {
      "text/plain": [
       "'hide'"
      ]
     },
     "execution_count": 102,
     "metadata": {},
     "output_type": "execute_result"
    }
   ],
   "source": [
    "hi.name"
   ]
  },
  {
   "cell_type": "code",
   "execution_count": 103,
   "metadata": {},
   "outputs": [],
   "source": [
    "hi.write_diary(\"2019/11/07\", \"いまはんなりPythonの準備をしています。windowsでjupyter notebookが動かないことが分かりました。\")\n",
    "hi.write_diary(\"2019/11/09\", \"いまはんなりPythonの準備をしています。もうちょっとで終わりです\")"
   ]
  },
  {
   "cell_type": "code",
   "execution_count": 104,
   "metadata": {},
   "outputs": [
    {
     "data": {
      "text/plain": [
       "{'2019/11/07': 'いまはんなりPythonの準備をしています。windowsでjupyter notebookが動かないことが分かりました。',\n",
       " '2019/11/09': 'いまはんなりPythonの準備をしています。もうちょっとで終わりです'}"
      ]
     },
     "execution_count": 104,
     "metadata": {},
     "output_type": "execute_result"
    }
   ],
   "source": [
    "hi.read_diary()"
   ]
  },
  {
   "cell_type": "code",
   "execution_count": 105,
   "metadata": {},
   "outputs": [
    {
     "data": {
      "text/plain": [
       "dict_keys(['2019/11/07', '2019/11/09'])"
      ]
     },
     "execution_count": 105,
     "metadata": {},
     "output_type": "execute_result"
    }
   ],
   "source": [
    "hi.know_date()"
   ]
  },
  {
   "cell_type": "code",
   "execution_count": 107,
   "metadata": {},
   "outputs": [
    {
     "data": {
      "text/plain": [
       "'いまはんなりPythonの準備をしています。windowsでjupyter notebookが動かないことが分かりました。'"
      ]
     },
     "execution_count": 107,
     "metadata": {},
     "output_type": "execute_result"
    }
   ],
   "source": [
    "hi.read_diary()[\"2019/11/07\"]"
   ]
  },
  {
   "cell_type": "markdown",
   "metadata": {},
   "source": [
    "## 課題\n",
    "- 日記をいつ書いたかわかる関数を継承を使って作成しましょう\n",
    "- 日記を他人に見られないようにロック、またロックを外す関数を継承を使って作成しましょう"
   ]
  },
  {
   "cell_type": "markdown",
   "metadata": {},
   "source": [
    "### エラーと例外\n",
    "- プルグラムのミス / 構文エラー\n",
    "- 構文的にあっているが起こるエラー / 例外"
   ]
  },
  {
   "cell_type": "code",
   "execution_count": 108,
   "metadata": {},
   "outputs": [
    {
     "ename": "SyntaxError",
     "evalue": "invalid syntax (<ipython-input-108-be985d5b89e0>, line 2)",
     "output_type": "error",
     "traceback": [
      "\u001b[0;36m  File \u001b[0;32m\"<ipython-input-108-be985d5b89e0>\"\u001b[0;36m, line \u001b[0;32m2\u001b[0m\n\u001b[0;31m    while True\u001b[0m\n\u001b[0m              ^\u001b[0m\n\u001b[0;31mSyntaxError\u001b[0m\u001b[0;31m:\u001b[0m invalid syntax\n"
     ]
    }
   ],
   "source": [
    "# 構文エラー\n",
    "while True\n",
    "    prnit(\"Hi\")\n",
    "    break"
   ]
  },
  {
   "cell_type": "code",
   "execution_count": 109,
   "metadata": {},
   "outputs": [
    {
     "ename": "ZeroDivisionError",
     "evalue": "division by zero",
     "output_type": "error",
     "traceback": [
      "\u001b[0;31m---------------------------------------------------------------------------\u001b[0m",
      "\u001b[0;31mZeroDivisionError\u001b[0m                         Traceback (most recent call last)",
      "\u001b[0;32m<ipython-input-109-c91539f6aee4>\u001b[0m in \u001b[0;36m<module>\u001b[0;34m\u001b[0m\n\u001b[1;32m      1\u001b[0m \u001b[0;31m# 例外\u001b[0m\u001b[0;34m\u001b[0m\u001b[0;34m\u001b[0m\u001b[0;34m\u001b[0m\u001b[0m\n\u001b[0;32m----> 2\u001b[0;31m \u001b[0;36m10\u001b[0m \u001b[0;34m/\u001b[0m\u001b[0;36m0\u001b[0m\u001b[0;34m\u001b[0m\u001b[0;34m\u001b[0m\u001b[0m\n\u001b[0m",
      "\u001b[0;31mZeroDivisionError\u001b[0m: division by zero"
     ]
    }
   ],
   "source": [
    "# 例外\n",
    "10 /0"
   ]
  },
  {
   "cell_type": "code",
   "execution_count": 110,
   "metadata": {},
   "outputs": [
    {
     "ename": "TypeError",
     "evalue": "unsupported operand type(s) for +: 'int' and 'str'",
     "output_type": "error",
     "traceback": [
      "\u001b[0;31m---------------------------------------------------------------------------\u001b[0m",
      "\u001b[0;31mTypeError\u001b[0m                                 Traceback (most recent call last)",
      "\u001b[0;32m<ipython-input-110-ba0a46c9692a>\u001b[0m in \u001b[0;36m<module>\u001b[0;34m\u001b[0m\n\u001b[1;32m      1\u001b[0m \u001b[0;31m# 例外\u001b[0m\u001b[0;34m\u001b[0m\u001b[0;34m\u001b[0m\u001b[0;34m\u001b[0m\u001b[0m\n\u001b[0;32m----> 2\u001b[0;31m \u001b[0;36m4\u001b[0m \u001b[0;34m+\u001b[0m \u001b[0;34m\"spam\"\u001b[0m\u001b[0;34m\u001b[0m\u001b[0;34m\u001b[0m\u001b[0m\n\u001b[0m",
      "\u001b[0;31mTypeError\u001b[0m: unsupported operand type(s) for +: 'int' and 'str'"
     ]
    }
   ],
   "source": [
    "# 例外\n",
    "4 + \"spam\""
   ]
  },
  {
   "cell_type": "markdown",
   "metadata": {},
   "source": [
    "### 最終行にどんなエラーがあるか表示！\n",
    "- 途中にミスのある部分が示される\n",
    "- 致命的なエラーではない\n",
    "- これらを読んでエラーが起こった際の行動をプログラムする"
   ]
  },
  {
   "cell_type": "code",
   "execution_count": 112,
   "metadata": {},
   "outputs": [
    {
     "name": "stdin",
     "output_type": "stream",
     "text": [
      "Enter Number \n"
     ]
    },
    {
     "name": "stdout",
     "output_type": "stream",
     "text": [
      "Please enter int\n"
     ]
    },
    {
     "name": "stdin",
     "output_type": "stream",
     "text": [
      "Enter Number \n"
     ]
    },
    {
     "name": "stdout",
     "output_type": "stream",
     "text": [
      "Please enter int\n"
     ]
    },
    {
     "name": "stdin",
     "output_type": "stream",
     "text": [
      "Enter Number 1\n"
     ]
    }
   ],
   "source": [
    "while True:\n",
    "    try:\n",
    "        x = int(input(\"Enter Number\"))\n",
    "        break\n",
    "    except ValueError:\n",
    "        print(\"Please enter int\")"
   ]
  },
  {
   "cell_type": "code",
   "execution_count": 114,
   "metadata": {},
   "outputs": [
    {
     "name": "stdin",
     "output_type": "stream",
     "text": [
      "type number 2\n"
     ]
    },
    {
     "data": {
      "text/plain": [
       "2"
      ]
     },
     "execution_count": 114,
     "metadata": {},
     "output_type": "execute_result"
    }
   ],
   "source": [
    "# エラー\n",
    "int(input(\"type number\"))"
   ]
  },
  {
   "cell_type": "code",
   "execution_count": 115,
   "metadata": {},
   "outputs": [
    {
     "ename": "NameError",
     "evalue": "name 'y' is not defined",
     "output_type": "error",
     "traceback": [
      "\u001b[0;31m---------------------------------------------------------------------------\u001b[0m",
      "\u001b[0;31mNameError\u001b[0m                                 Traceback (most recent call last)",
      "\u001b[0;32m<ipython-input-115-ba8ad0c47144>\u001b[0m in \u001b[0;36m<module>\u001b[0;34m\u001b[0m\n\u001b[0;32m----> 1\u001b[0;31m \u001b[0mint\u001b[0m\u001b[0;34m(\u001b[0m\u001b[0my\u001b[0m\u001b[0;34m)\u001b[0m\u001b[0;34m\u001b[0m\u001b[0;34m\u001b[0m\u001b[0m\n\u001b[0m",
      "\u001b[0;31mNameError\u001b[0m: name 'y' is not defined"
     ]
    }
   ],
   "source": [
    "int(y)"
   ]
  },
  {
   "cell_type": "code",
   "execution_count": 116,
   "metadata": {},
   "outputs": [
    {
     "name": "stdout",
     "output_type": "stream",
     "text": [
      "B\n",
      "C\n",
      "D\n"
     ]
    }
   ],
   "source": [
    "class B(Exception):\n",
    "    pass\n",
    "\n",
    "class C(B):\n",
    "    pass\n",
    "\n",
    "class D(C):\n",
    "    pass\n",
    "\n",
    "for cls in [B, C, D]:\n",
    "    try:\n",
    "        raise cls\n",
    "    except D:\n",
    "        print(\"D\")\n",
    "    except C:\n",
    "        print(\"C\")\n",
    "    except B:\n",
    "        print(\"B\")"
   ]
  },
  {
   "cell_type": "code",
   "execution_count": 117,
   "metadata": {},
   "outputs": [
    {
     "data": {
      "text/plain": [
       "__main__.B"
      ]
     },
     "execution_count": 117,
     "metadata": {},
     "output_type": "execute_result"
    }
   ],
   "source": [
    "B"
   ]
  },
  {
   "cell_type": "code",
   "execution_count": null,
   "metadata": {},
   "outputs": [],
   "source": []
  }
 ],
 "metadata": {
  "kernelspec": {
   "display_name": "Python 3",
   "language": "python",
   "name": "python3"
  },
  "language_info": {
   "codemirror_mode": {
    "name": "ipython",
    "version": 3
   },
   "file_extension": ".py",
   "mimetype": "text/x-python",
   "name": "python",
   "nbconvert_exporter": "python",
   "pygments_lexer": "ipython3",
   "version": "3.8.0"
  }
 },
 "nbformat": 4,
 "nbformat_minor": 4
}
